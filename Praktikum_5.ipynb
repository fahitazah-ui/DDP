{
  "nbformat": 4,
  "nbformat_minor": 0,
  "metadata": {
    "colab": {
      "provenance": [],
      "authorship_tag": "ABX9TyOHlUnhfnSPiUDq/pbdvPg+",
      "include_colab_link": true
    },
    "kernelspec": {
      "name": "python3",
      "display_name": "Python 3"
    },
    "language_info": {
      "name": "python"
    }
  },
  "cells": [
    {
      "cell_type": "markdown",
      "metadata": {
        "id": "view-in-github",
        "colab_type": "text"
      },
      "source": [
        "<a href=\"https://colab.research.google.com/github/fahitazah-ui/DDP/blob/main/Praktikum_5.ipynb\" target=\"_parent\"><img src=\"https://colab.research.google.com/assets/colab-badge.svg\" alt=\"Open In Colab\"/></a>"
      ]
    },
    {
      "cell_type": "code",
      "execution_count": null,
      "metadata": {
        "colab": {
          "base_uri": "https://localhost:8080/"
        },
        "id": "wvZiQ1syz8jR",
        "outputId": "9bf77892-ac66-48d2-873e-10ad79731752"
      },
      "outputs": [
        {
          "output_type": "stream",
          "name": "stdout",
          "text": [
            "['Beat Ember', 'motor', 200, 'Hitam', 2]\n",
            "['Beat Ember', 'motor', 200, 'Hitam', 2, [5000, 'matic']]\n",
            "['Beat Ember', 'motor', 'Honda', 200, 'Hitam', 2, [5000, 'matic']]\n"
          ]
        }
      ],
      "source": [
        "namaKendaraan = \"Beat Ember\"\n",
        "jenisKendaraan = \"motor\"\n",
        "ccKendaraan = 200\n",
        "warnaKendaraan = \"Hitam\"\n",
        "rodaKendaraan = 2\n",
        "\n",
        "data_kendaraan = [namaKendaraan, jenisKendaraan, ccKendaraan, warnaKendaraan, rodaKendaraan]\n",
        "\n",
        "print(data_kendaraan)\n",
        "\n",
        "hargaKendaraan = 5000\n",
        "tipeKendaraan = \"matic\"\n",
        "\n",
        "data_kendaraan.append([hargaKendaraan, tipeKendaraan])\n",
        "print(data_kendaraan)\n",
        "\n",
        "merkKendaraan = \"Honda\"\n",
        "data_kendaraan.insert(2, merkKendaraan)\n",
        "print(data_kendaraan)"
      ]
    },
    {
      "cell_type": "code",
      "source": [
        "pilihan = input(\"\"\"\n",
        "Silahkan pilih menu yang diinginkan\n",
        "=====================================\n",
        "1. Luas Persegi\n",
        "2. Luas Lingkaran\n",
        "3. Luas Segitiga\n",
        "=====================================\n",
        "Kirimkan hanya angka saja,\n",
        "Jawaban = \"\"\")\n",
        "\n",
        "match pilihan :\n",
        "  case \"1\":\n",
        "   print(\"anda memilih luas persegi silahkan isi data di bawah\")\n",
        "   sisi = int(input(\"sisi = \"))\n",
        "   luas = sisi * sisi\n",
        "\n",
        "   print(f\"luas persegi dengan sisi {sisi} adalah {luas}\")\n",
        "   # luas persegi\n",
        "  case \"2\":\n",
        "   # luas lingkaran\n",
        "   # phi * jarijari**2\n",
        "   print(\"anda memilih luas lingkaran\")\n",
        "   jarijari = int(input(\"jarijari = \"))\n",
        "   luas = 3.14 * jarijari**2\n",
        "\n",
        "   print(f\"luas lingkaran dengan jarijari {jarijari} adalah {sisi}\")\n",
        "  case \"3\":\n",
        "   # luas segitiga\n",
        "   # (atas * tinggi)/2\n",
        "   print(\"anda memilih luas segitiga\")\n",
        "   atas = int(input(\"atas = \"))\n",
        "   tinggi = 13 * atas\n",
        "\n",
        "   print(f\"luas segitiga dengan atas {atas} adalah {tinggi}\")\n",
        "  case _:\n",
        "   print(\"Yo Ndak tau kok tanya saya\")"
      ],
      "metadata": {
        "colab": {
          "base_uri": "https://localhost:8080/"
        },
        "id": "XNPLpBM19OoK",
        "outputId": "0692df8d-cdfe-4d4e-dfc0-4168cc356a80"
      },
      "execution_count": null,
      "outputs": [
        {
          "output_type": "stream",
          "name": "stdout",
          "text": [
            "\n",
            "Silahkan pilih menu yang diinginkan \n",
            "=====================================\n",
            "1. Luas Persegi\n",
            "2. Luas Lingkaran \n",
            "3. Luas Segitiga \n",
            "=====================================\n",
            "Kirimkan hanya angka saja,\n",
            "Jawaban = 13\n",
            "Yo Ndak tau kok tanya saya\n"
          ]
        }
      ]
    }
  ]
}